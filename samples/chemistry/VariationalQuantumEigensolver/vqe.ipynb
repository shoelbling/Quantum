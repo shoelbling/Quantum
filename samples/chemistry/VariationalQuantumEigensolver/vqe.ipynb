{
 "metadata": {
  "language_info": {
   "codemirror_mode": {
    "name": "ipython",
    "version": 3
   },
   "file_extension": ".py",
   "mimetype": "text/x-python",
   "name": "python",
   "nbconvert_exporter": "python",
   "pygments_lexer": "ipython3",
   "version": "3.7.8-final"
  },
  "orig_nbformat": 2,
  "kernelspec": {
   "name": "python_defaultSpec_1599316273646",
   "display_name": "Python 3.7.8 64-bit"
  }
 },
 "nbformat": 4,
 "nbformat_minor": 2,
 "cells": [
  {
   "cell_type": "code",
   "execution_count": 1,
   "metadata": {
    "tags": []
   },
   "outputs": [
    {
     "output_type": "stream",
     "name": "stdout",
     "text": "Preparing Q# environment...\n..Adding package microsoft.quantum.chemistry.jupyter."
    }
   ],
   "source": [
    "from qsharp.chemistry import load_broombridge, load_fermion_hamiltonian, load_input_state, encode"
   ]
  },
  {
   "cell_type": "code",
   "execution_count": 2,
   "metadata": {},
   "outputs": [],
   "source": [
    "filename = 'data/hydrogen_0.2.yaml'\n",
    "broombridge_data =  load_broombridge(filename)"
   ]
  },
  {
   "cell_type": "code",
   "execution_count": 3,
   "metadata": {
    "tags": []
   },
   "outputs": [
    {
     "output_type": "stream",
     "name": "stdout",
     "text": "nuclear_repulsion =  0.713776188\none_electron_integrals =  [([1, 1], -1.252477495), ([2, 2], -0.475934275)]\n"
    }
   ],
   "source": [
    "# Retrieve basis set and geometry used to generate the input data\n",
    "basis_set = broombridge_data.problem_description[0].basis_set\n",
    "geometry = broombridge_data.problem_description[0].geometry\n",
    "\n",
    "# Retrieve the nuclear repulsion and the one-electron integrals (Mulliken convention)\n",
    "nuclear_repulsion = broombridge_data.problem_description[0].coulomb_repulsion['Value']\n",
    "one_electron_integrals =  broombridge_data.problem_description[0].hamiltonian['OneElectronIntegrals']['Values']\n",
    "\n",
    "print(\"nuclear_repulsion = \", nuclear_repulsion)\n",
    "print(\"one_electron_integrals = \", one_electron_integrals)"
   ]
  },
  {
   "cell_type": "code",
   "execution_count": 4,
   "metadata": {
    "tags": []
   },
   "outputs": [
    {
     "output_type": "stream",
     "name": "stdout",
     "text": "ferm_hamiltonian :: <qsharp.chemistry.FermionHamiltonian object at 0x7f2b32cccd50>\n"
    }
   ],
   "source": [
    "ferm_hamiltonian = broombridge_data.problem_description[0].load_fermion_hamiltonian()\n",
    "print(\"ferm_hamiltonian ::\", ferm_hamiltonian)"
   ]
  },
  {
   "cell_type": "code",
   "execution_count": 5,
   "metadata": {
    "tags": []
   },
   "outputs": [
    {
     "output_type": "stream",
     "name": "stdout",
     "text": "input_state :: <qsharp.chemistry.InputState object at 0x7f2b14d91a50>\n"
    }
   ],
   "source": [
    "input_state = load_input_state(filename, \"UCCSD |G>\")\n",
    "print(\"input_state ::\", input_state)"
   ]
  },
  {
   "cell_type": "code",
   "execution_count": 6,
   "metadata": {
    "tags": []
   },
   "outputs": [
    {
     "output_type": "stream",
     "name": "stdout",
     "text": "jw_hamiltonian :: \n (4, ([([0], [0.17120128499999998]), ([1], [0.17120128499999998]), ([2], [-0.222796536]), ([3], [-0.222796536])], [([0, 1], [0.1686232915]), ([0, 2], [0.12054614575]), ([0, 3], [0.16586802525]), ([1, 2], [0.16586802525]), ([1, 3], [0.12054614575]), ([2, 3], [0.1743495025])], [], [([0, 1, 2, 3], [0.0, -0.0453218795, 0.0, 0.0453218795])]), (3, [((0.001, 0.0), [2, 0]), ((-0.001, 0.0), [3, 1]), ((0.001, 0.0), [2, 3, 1, 0]), ((1.0, 0.0), [0, 1])]), -0.09883444600000002)\n"
    }
   ],
   "source": [
    "jw_hamiltonian = encode(ferm_hamiltonian, input_state)\n",
    "print(\"jw_hamiltonian :: \\n\", jw_hamiltonian)"
   ]
  },
  {
   "cell_type": "code",
   "execution_count": 7,
   "metadata": {
    "tags": []
   },
   "outputs": [
    {
     "output_type": "stream",
     "name": "stdout",
     "text": "[0.001, -0.001, 0.001]\n"
    }
   ],
   "source": [
    "def get_var_params(jw_hamiltonian):\n",
    "    \"\"\" Retrieve the values of variational parameters from the jw_hamiltonian object \"\"\"\n",
    "    _, _, input_state, _ = jw_hamiltonian\n",
    "    _, var_params = input_state\n",
    "    params = [param for ((param, _), _) in var_params]\n",
    "    return params[:-1]\n",
    "\n",
    "var_params = get_var_params(jw_hamiltonian)\n",
    "print(var_params)"
   ]
  },
  {
   "cell_type": "code",
   "execution_count": 8,
   "metadata": {
    "tags": []
   },
   "outputs": [
    {
     "output_type": "stream",
     "name": "stdout",
     "text": "Energy evaluated at [0.001, -0.001, 0.001] : -1.1163206830453163 \n\n"
    }
   ],
   "source": [
    "import qsharp\n",
    "\n",
    "# It is possible to create a Python object to represent a\n",
    "# Q# callable from the chemistry library\n",
    "estimate_energy = qsharp.QSharpCallable(\"Microsoft.Quantum.Chemistry.JordanWigner.VQE.EstimateEnergy\", \"\")\n",
    "\n",
    "# The Q# operation can then be called through the simulate method\n",
    "# A large number of samples is selected for high accuracy\n",
    "energy = estimate_energy.simulate(jwHamiltonian=jw_hamiltonian, nSamples=1e18)\n",
    "\n",
    "print(\"Energy evaluated at {0} : {1} \\n\".format(var_params, energy))"
   ]
  },
  {
   "cell_type": "code",
   "execution_count": 9,
   "metadata": {},
   "outputs": [],
   "source": [
    "def set_var_params(var_params, jw_hamiltonian):\n",
    "    \"\"\" Set variational parameters stored in the JW data-structure to the desired values\"\"\"\n",
    "    # Unpack data structure\n",
    "    a1, a2, input_state, a3 = jw_hamiltonian\n",
    "    b1, amps = input_state\n",
    "    # Unpack and overwrite variational parameters\n",
    "    new_amps = [((var_params[i], 0.0), amps[i][1]) for i in range(len(var_params))]\n",
    "    new_amps.append(amps[-1])\n",
    "    # Re-pack the data structure\n",
    "    input_state = (b1, new_amps)\n",
    "    jw_hamiltonian = (a1, a2, input_state, a3)\n",
    "    return jw_hamiltonian"
   ]
  },
  {
   "cell_type": "code",
   "execution_count": 10,
   "metadata": {},
   "outputs": [],
   "source": [
    "def energy_eval_wrapper(var_params, jw_hamiltonian, n_samples):\n",
    "    \"\"\"\n",
    "        A wrapper whose signature is compatible with the use of scipy optimizers,\n",
    "        calling the Q# energy_evalaution from the Microsoft Chemistry library\n",
    "    \"\"\"\n",
    "\n",
    "    # NumPy arrays are currently not supported by the Python interops\n",
    "    # This ensures that neither the user nor SciPy call the energy evaluation function with a NumPy array\n",
    "    var_params = list(var_params)\n",
    "\n",
    "    # Set the varational parameters to the right values in the jw_hamiltonian object\n",
    "    jw_hamiltonian = set_var_params(var_params, jw_hamiltonian)\n",
    "\n",
    "    # Estimate the energy\n",
    "    energy = estimate_energy.simulate(jwHamiltonian=jw_hamiltonian, nSamples=1e18)\n",
    "\n",
    "    print(\"Energy evaluated at {0} : {1} \\n\".format(var_params, energy))\n",
    "    return energy"
   ]
  },
  {
   "cell_type": "code",
   "execution_count": 11,
   "metadata": {},
   "outputs": [],
   "source": [
    "from scipy.optimize import minimize\n",
    "\n",
    "def VQE(initial_var_params, jw_hamiltonian, n_samples):\n",
    "    \"\"\" Run VQE Optimization to find the optimal energy and the associated variational parameters \"\"\"\n",
    "\n",
    "    opt_result = minimize(energy_eval_wrapper,\n",
    "                          initial_var_params,\n",
    "                          args=(jw_hamiltonian, n_samples),\n",
    "                          method=\"COBYLA\",\n",
    "                          tol=0.000001,\n",
    "                          options={'disp': True, 'maxiter': 200,'rhobeg' : 0.05})\n",
    "\n",
    "    return opt_result"
   ]
  },
  {
   "cell_type": "code",
   "execution_count": 12,
   "metadata": {
    "tags": []
   },
   "outputs": [
    {
     "output_type": "stream",
     "name": "stdout",
     "text": "Energy evaluated at [0.001, -0.001, 0.001] : -1.116320682999035 \n\nEnergy evaluated at [0.051000000000000004, -0.001, 0.001] : -1.114369347838688 \n\nEnergy evaluated at [0.001, 0.049, 0.001] : -1.1144494154703555 \n\nEnergy evaluated at [0.001, -0.001, 0.051000000000000004] : -1.094130153875219 \n\nEnergy evaluated at [-0.0033645012942989582, -0.005185416076574539, -0.04863298722339826] : -1.1305266769308338 \n\nEnergy evaluated at [-0.010215790503728908, -0.011755581616419047, -0.09772364581490414] : -1.1366498438945736 \n\nEnergy evaluated at [-0.04496726791143144, -0.046255806956378515, -0.1078265795212075] : -1.1331696228354478 \n\nEnergy evaluated at [0.007410278736543548, -0.029484486933386213, -0.09781082034750617] : -1.1362581498721318 \n\nEnergy evaluated at [0.0067936475502837, 0.011608617938682423, -0.13852552317656613] : -1.1360580829515063 \n\nEnergy evaluated at [-0.0017110714767226039, -7.348183886831186e-05, -0.11812458449573512] : -1.1372266415126342 \n\nEnergy evaluated at [0.011010907139162383, 0.020251835060950834, -0.11105120107484724] : -1.1367639230691582 \n\nEnergy evaluated at [-0.01406922131164827, 0.0012726559312437418, -0.13981476766143025] : -1.1359617009697218 \n\nEnergy evaluated at [0.008305538353318547, -0.007284837238805689, -0.12010293755030275] : -1.1371149026074896 \n\nEnergy evaluated at [0.001504144469414746, 0.004779504707435968, -0.11585007180043229] : -1.1372355796107017 \n\nEnergy evaluated at [0.0017773928950736177, 0.00595036397856284, -0.1187345212912522] : -1.137184449310741 \n\nEnergy evaluated at [-0.001256540776844469, 0.004598952135930694, -0.11024574153357528] : -1.1372418555772308 \n\nEnergy evaluated at [0.0014063764077258166, 0.0031295128875565696, -0.10952793559639033] : -1.1372393000653278 \n\nEnergy evaluated at [-0.004924813232983567, 0.0012610107813915807, -0.10644252911494956] : -1.1371815961256813 \n\nEnergy evaluated at [-0.00032511524836829734, 0.007193098394315955, -0.10877316668827584] : -1.1372007744283525 \n\nEnergy evaluated at [-0.0010555801914605197, 0.0037660008032026635, -0.11325097562103481] : -1.1372597705709775 \n\nEnergy evaluated at [-0.002543799810433004, 0.0011133830960118906, -0.11396822499552277] : -1.1372640474459978 \n\nEnergy evaluated at [-0.0024218137577915544, 0.0010368893646379785, -0.1155240766471983] : -1.1372560576115882 \n\nEnergy evaluated at [-0.0032137812296173167, 0.001508727542379012, -0.11404019185716373] : -1.1372607050457932 \n\nEnergy evaluated at [-0.0021227358425046266, 0.00020195840645933778, -0.11277097129634851] : -1.1372668577113862 \n\nEnergy evaluated at [-0.0010560868521641924, 0.001159839130837983, -0.1121495771386116] : -1.1372675774951242 \n\nEnergy evaluated at [0.0001759475554678183, 0.00024997947913859143, -0.11245885514077196] : -1.1372697335475892 \n\nEnergy evaluated at [0.0010864951421396475, -0.0007041904103738712, -0.11162107881957764] : -1.1372660130501973 \n\nEnergy evaluated at [0.0004528094539858775, 0.0005003578948039607, -0.11314515660559472] : -1.137269963198397 \n\nEnergy evaluated at [0.00021976928681670773, 0.0002480452557461217, -0.11333121708845563] : -1.1372701920878772 \n\nEnergy evaluated at [0.0005981242682337058, -0.00038686678038268684, -0.11358436877601807] : -1.1372696599504968 \n\nEnergy evaluated at [-0.0004127958065711317, 0.0005339095546413154, -0.1136896784779307] : -1.1372695020641732 \n\nEnergy evaluated at [5.6363091769340474e-05, 9.123881702042253e-05, -0.11301294354758347] : -1.1372703994521478 \n\nEnergy evaluated at [-0.0003314295628275768, 0.00012454233718431741, -0.11297984334803167] : -1.1372703191670062 \n\nEnergy evaluated at [9.799433430828641e-05, -0.0002935755636346163, -0.11296028784788494] : -1.137270332438145 \n\nEnergy evaluated at [0.00011372418240703381, 0.00015271817703223968, -0.11283665694505894] : -1.1372702961700392 \n\nEnergy evaluated at [6.0716106126463086e-05, -6.21534076002219e-06, -0.11301746920348879] : -1.1372704078300218 \n\nEnergy evaluated at [0.00010677613491519231, -3.4166468693675997e-06, -0.1130334325005011] : -1.1372704037433867 \n\nEnergy evaluated at [1.5920112854233767e-05, -1.964035659928324e-05, -0.11310320035943884] : -1.1372704119640407 \n\nEnergy evaluated at [-4.9077024726393965e-05, -9.224286967955214e-05, -0.11309679798762702] : -1.1372704022681401 \n\nEnergy evaluated at [-5.218070074385825e-06, 2.409914372629275e-05, -0.11310812165243568] : -1.1372704102429454 \n\nEnergy evaluated at [5.194560368068964e-05, -1.7047493790966888e-05, -0.1131360580353181] : -1.1372704038266166 \n\nEnergy evaluated at [2.3070321849147435e-05, -1.5962073685464388e-05, -0.1130801484355736] : -1.1372704133569305 \n\nEnergy evaluated at [7.2185374262143786e-06, -2.7210320718009e-05, -0.11306537534121061] : -1.1372704133867049 \n\nEnergy evaluated at [1.3978694862112508e-05, -3.7363377553506716e-05, -0.11306585212237164] : -1.1372704132108957 \n\nEnergy evaluated at [1.6099382889223863e-05, -1.531917525483586e-05, -0.11304599035497925] : -1.1372704134044227 \n\nEnergy evaluated at [7.6338047399745e-06, -6.555654762009005e-06, -0.11304672948088818] : -1.137270414483695 \n\nEnergy evaluated at [-5.026797422498441e-07, 2.395739953797149e-06, -0.11304836709038095] : -1.137270413662332 \n\nEnergy evaluated at [1.1659732670615516e-05, -3.526508394335123e-06, -0.11305017463394212] : -1.137270413949739 \n\nEnergy evaluated at [8.90369159920516e-06, -1.1699207083185316e-05, -0.11303573207806648] : -1.1372704126073754 \n\nEnergy evaluated at [3.1726385416701495e-06, -1.4624400254476748e-05, -0.11305472979052389] : -1.1372704136027996 \n\nEnergy evaluated at [1.2570538689472596e-05, -4.360529789107795e-06, -0.11304956902085969] : -1.1372704135856848 \n\nEnergy evaluated at [5.381890091486232e-06, -4.4961090782228045e-06, -0.11304674891638344] : -1.1372704144319958 \n\nEnergy evaluated at [8.14173974577368e-06, -5.987800775316774e-06, -0.11304540741798641] : -1.1372704137868213 \n\nEnergy evaluated at [6.153057686376267e-06, -8.351163619323157e-06, -0.11304870350263393] : -1.1372704142407013 \n\nEnergy evaluated at [8.35679104496241e-06, -5.799844211167995e-06, -0.11304784049288207] : -1.1372704134481295 \n\nEnergy evaluated at [6.972149409538964e-06, -7.304929029996643e-06, -0.11304670119140182] : -1.1372704138978467 \n\nEnergy evaluated at [8.008555533848793e-06, -6.886651091931053e-06, -0.11304673128977422] : -1.1372704135750382 \n\nEnergy evaluated at [7.157607599053627e-06, -5.7752369423490705e-06, -0.11304713467751913] : -1.1372704136231806 \n\n     fun: -1.1372704136231806\n   maxcv: 0.0\n message: 'Optimization terminated successfully.'\n    nfev: 58\n  status: 1\n success: True\n       x: array([ 7.15760760e-06, -5.77523694e-06, -1.13047135e-01])\n"
    }
   ],
   "source": [
    "# Run VQE and print the results of the optimization process\n",
    "# A large number of samples is selected for higher accuracy\n",
    "opt_result = VQE(var_params, jw_hamiltonian, n_samples=1e18)\n",
    "print(opt_result)"
   ]
  },
  {
   "cell_type": "code",
   "execution_count": 13,
   "metadata": {
    "tags": []
   },
   "outputs": [
    {
     "output_type": "stream",
     "name": "stdout",
     "text": "Difference with exact FCI value ::  8.469259515919703e-09\n"
    }
   ],
   "source": [
    "# Print difference with exact FCI value known for this bond length\n",
    "fci_value = -1.1372704220924401\n",
    "print(\"Difference with exact FCI value :: \", abs(opt_result.fun - fci_value))"
   ]
  },
  {
   "cell_type": "code",
   "execution_count": 14,
   "metadata": {},
   "outputs": [],
   "source": [
    "num_qubits, hamiltonian_term_list, input_state, energy_offset = jw_hamiltonian"
   ]
  },
  {
   "cell_type": "code",
   "execution_count": 15,
   "metadata": {},
   "outputs": [],
   "source": [
    "var_params = get_var_params(jw_hamiltonian)"
   ]
  },
  {
   "cell_type": "code",
   "execution_count": 16,
   "metadata": {},
   "outputs": [
    {
     "output_type": "execute_result",
     "data": {
      "text/plain": "4"
     },
     "metadata": {},
     "execution_count": 16
    }
   ],
   "source": [
    "num_qubits"
   ]
  },
  {
   "cell_type": "code",
   "execution_count": 22,
   "metadata": {
    "tags": []
   },
   "outputs": [
    {
     "output_type": "stream",
     "name": "stdout",
     "text": "Energy evaluated at [0.001, -0.001, 0.001] : -1.0178511899999998 \n\n"
    }
   ],
   "source": [
    "import qsharp\n",
    "qsharp.reload()\n",
    "from Microsoft.Quantum.Samples.Chemistry.VariationalQuantumEigensolver import EstimateEnergy\n",
    "\n",
    "# It is possible to create a Python object to represent a\n",
    "# Q# callable from the chemistry library\n",
    "# estimate_energy2 = qsharp.QSharpCallable(\"Microsoft.Quantum.Samples.Chemistry.VariationalQuantumEigensolver.EstimateEnergy\", \"\")\n",
    "\n",
    "# The Q# operation can then be called through the simulate method\n",
    "# A large number of samples is selected for high accuracy\n",
    "energy = EstimateEnergy.simulate(\n",
    "    nQubits=num_qubits,\n",
    "    hamiltonianTermList=hamiltonian_term_list, \n",
    "    inputState=input_state,\n",
    "    energyOffset=energy_offset,\n",
    "    nSamples=100) # Run only 100 samples or this will be too slow to run (library version uses simulator optimizations)\n",
    "\n",
    "print(\"Energy evaluated at {0} : {1} \\n\".format(var_params, energy))"
   ]
  },
  {
   "cell_type": "code",
   "execution_count": null,
   "metadata": {},
   "outputs": [],
   "source": []
  }
 ]
}